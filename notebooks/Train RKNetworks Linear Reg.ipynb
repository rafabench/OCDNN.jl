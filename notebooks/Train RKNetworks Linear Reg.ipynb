{
 "cells": [
  {
   "cell_type": "markdown",
   "id": "faea9810",
   "metadata": {},
   "source": [
    "Inspired in: https://playground.tensorflow.org/"
   ]
  },
  {
   "cell_type": "code",
   "execution_count": 472,
   "id": "66395ec7",
   "metadata": {
    "ExecuteTime": {
     "end_time": "2021-11-03T21:45:58.034000-03:00",
     "start_time": "2021-11-04T00:45:57.851Z"
    }
   },
   "outputs": [],
   "source": [
    "using Revise\n",
    "using PyPlot, OCDNN, Printf, Random"
   ]
  },
  {
   "cell_type": "code",
   "execution_count": 514,
   "id": "75e0ca9e",
   "metadata": {
    "ExecuteTime": {
     "end_time": "2021-11-03T21:52:16.338000-03:00",
     "start_time": "2021-11-04T00:52:16.312Z"
    }
   },
   "outputs": [
    {
     "data": {
      "text/plain": [
       "in_dir (generic function with 1 method)"
      ]
     },
     "execution_count": 514,
     "metadata": {},
     "output_type": "execute_result"
    }
   ],
   "source": [
    "function in_dir(f, path::String)\n",
    "    current = pwd()\n",
    "    cd(path)\n",
    "    f()\n",
    "    cd(current)\n",
    "end"
   ]
  },
  {
   "cell_type": "code",
   "execution_count": 838,
   "id": "20e73279",
   "metadata": {
    "ExecuteTime": {
     "end_time": "2021-11-03T23:10:51.434000-03:00",
     "start_time": "2021-11-04T02:10:51.410Z"
    }
   },
   "outputs": [
    {
     "data": {
      "text/plain": [
       "f (generic function with 1 method)"
      ]
     },
     "execution_count": 838,
     "metadata": {},
     "output_type": "execute_result"
    }
   ],
   "source": [
    "f(x) = 2*x + sin(2x) + 3"
   ]
  },
  {
   "cell_type": "code",
   "execution_count": 880,
   "id": "8b6066e3",
   "metadata": {
    "ExecuteTime": {
     "end_time": "2021-11-03T23:34:49.681000-03:00",
     "start_time": "2021-11-04T02:34:49.650Z"
    }
   },
   "outputs": [],
   "source": [
    "Random.seed!(123)\n",
    "xs = 0:0.02:5\n",
    "ys = f.(xs) + randn(length(xs));"
   ]
  },
  {
   "cell_type": "code",
   "execution_count": 881,
   "id": "bfc3f567",
   "metadata": {
    "ExecuteTime": {
     "end_time": "2021-11-03T23:34:49.853000-03:00",
     "start_time": "2021-11-04T02:34:49.819Z"
    }
   },
   "outputs": [
    {
     "data": {
      "text/plain": [
       "251"
      ]
     },
     "execution_count": 881,
     "metadata": {},
     "output_type": "execute_result"
    }
   ],
   "source": [
    "N = length(xs)"
   ]
  },
  {
   "cell_type": "code",
   "execution_count": 882,
   "id": "1cfa2be8",
   "metadata": {
    "ExecuteTime": {
     "end_time": "2021-11-03T23:34:50.011000-03:00",
     "start_time": "2021-11-04T02:34:49.986Z"
    }
   },
   "outputs": [],
   "source": [
    "dataset = reshape(collect(xs),length(xs),1), ys;"
   ]
  },
  {
   "cell_type": "code",
   "execution_count": 883,
   "id": "0a2c88c4",
   "metadata": {
    "ExecuteTime": {
     "end_time": "2021-11-03T23:34:50.461000-03:00",
     "start_time": "2021-11-04T02:34:50.156Z"
    }
   },
   "outputs": [
    {
     "data": {
      "image/png": "[encoded data removed]",
      "text/plain": [
       "Figure(PyObject <Figure size 640x480 with 1 Axes>)"
      ]
     },
     "metadata": {},
     "output_type": "display_data"
    }
   ],
   "source": [
    "plot(xs, ys, \".\")\n",
    "plot(xs, f.(xs) );"
   ]
  },
  {
   "cell_type": "code",
   "execution_count": 884,
   "id": "1306b223",
   "metadata": {
    "ExecuteTime": {
     "end_time": "2021-11-03T23:34:51.232000-03:00",
     "start_time": "2021-11-04T02:34:51.208Z"
    }
   },
   "outputs": [],
   "source": [
    "nlayers = 2\n",
    "channels = 5 # number of neurons per layer\n",
    "niter = 50_000\n",
    "τ=0.01;\n",
    "τ_max=0.2;\n",
    "stepsize = 0.1;"
   ]
  },
  {
   "cell_type": "code",
   "execution_count": 885,
   "id": "671bbf3b",
   "metadata": {
    "ExecuteTime": {
     "end_time": "2021-11-03T23:34:51.501000-03:00",
     "start_time": "2021-11-04T02:34:51.474Z"
    }
   },
   "outputs": [],
   "source": [
    "A_eu = reshape([0],(1,1));\n",
    "w_eu = [1];\n",
    "A_ie = [0 0; 1 0];\n",
    "w_ie = [0.5 ;0.5];\n",
    "A_kutta4 = [0 0 0 0;0.5 0 0 0;0 0.5 0 0;0 0 1 0];\n",
    "w_kutta4 = 1/6*[1;2;2;1];\n",
    "A_kutta3 = [0 0 0;1/2 0 0;-1 2 0];\n",
    "w_kutta3 = [1/6;2/3;1/6];"
   ]
  },
  {
   "cell_type": "code",
   "execution_count": 886,
   "id": "578ba957",
   "metadata": {
    "ExecuteTime": {
     "end_time": "2021-11-03T23:34:51.894000-03:00",
     "start_time": "2021-11-04T02:34:51.824Z"
    }
   },
   "outputs": [],
   "source": [
    "rk4 = OCDNN.ExplicitRungeKutta(A_kutta4,w_kutta4,\"RK4\");\n",
    "rk3 = OCDNN.ExplicitRungeKutta(A_kutta3,w_kutta3,\"RK3\");\n",
    "rk2 = OCDNN.ExplicitRungeKutta(A_ie,w_ie,\"RK2\");\n",
    "euler = OCDNN.ExplicitRungeKutta(A_eu,w_eu,\"Euler\");\n",
    "rks = [euler,rk2,rk3,rk4];\n",
    "names = [rk.name for rk in rks];"
   ]
  },
  {
   "cell_type": "code",
   "execution_count": 887,
   "id": "9df0ec2c",
   "metadata": {
    "ExecuteTime": {
     "end_time": "2021-11-03T23:34:52.343000-03:00",
     "start_time": "2021-11-04T02:34:52.169Z"
    }
   },
   "outputs": [
    {
     "data": {
      "text/plain": [
       "#293 (generic function with 1 method)"
      ]
     },
     "execution_count": 887,
     "metadata": {},
     "output_type": "execute_result"
    }
   ],
   "source": [
    "eta = x -> exp(x)/(exp(x)+1)\n",
    "eta = x -> x"
   ]
  },
  {
   "cell_type": "code",
   "execution_count": 888,
   "id": "918c5bf2",
   "metadata": {
    "ExecuteTime": {
     "end_time": "2021-11-03T23:34:52.621000-03:00",
     "start_time": "2021-11-04T02:34:52.596Z"
    }
   },
   "outputs": [],
   "source": [
    "problem = OCDNN.Problem(tanh, eta, ys);"
   ]
  },
  {
   "cell_type": "code",
   "execution_count": 889,
   "id": "d9c060b3",
   "metadata": {
    "ExecuteTime": {
     "end_time": "2021-11-03T23:34:55.516000-03:00",
     "start_time": "2021-11-04T02:34:55.484Z"
    }
   },
   "outputs": [
    {
     "data": {
      "text/plain": [
       "cb (generic function with 1 method)"
      ]
     },
     "execution_count": 889,
     "metadata": {},
     "output_type": "execute_result"
    }
   ],
   "source": [
    "function cb(iter, rkmethod, nlayers, α, log, Ctrls)\n",
    "    period = 10_000\n",
    "    if rem(iter,period) == 0 || iter == 1\n",
    "        @printf(\"\\nMethod=%s, nlayers=%d\\n\",rkmethod.name,nlayers)\n",
    "        @printf(\"Iteration no: %d\\n\",iter)\n",
    "        @printf(\"Value of alpha: %7.4f\\n\",α);\n",
    "        @printf(\"Residual: %8.4f\\n\",log.loss[end])\n",
    "        @printf(\"Norm Grad: %8.4e\\n\",log.grad_norm[end]);\n",
    "        if iter > 1\n",
    "            @printf(\"Time: %8.4f\\n\",sum(log.time[end-period+1:end]));\n",
    "        end\n",
    "    end\n",
    "end"
   ]
  },
  {
   "cell_type": "code",
   "execution_count": 890,
   "id": "a427f267",
   "metadata": {
    "ExecuteTime": {
     "end_time": "2021-11-03T23:34:55.806000-03:00",
     "start_time": "2021-11-04T02:34:55.784Z"
    }
   },
   "outputs": [],
   "source": [
    "xs, feat = dataset;"
   ]
  },
  {
   "cell_type": "code",
   "execution_count": 891,
   "id": "4db87cde",
   "metadata": {
    "ExecuteTime": {
     "end_time": "2021-11-04T01:10:54.760000-03:00",
     "start_time": "2021-11-04T02:34:56.251Z"
    },
    "scrolled": true
   },
   "outputs": [
    {
     "name": "stdout",
     "output_type": "stream",
     "text": [
      "\n",
      "Method=Euler, nlayers=2\n",
      "Iteration no: 1\n",
      "Value of alpha:  0.0003\n",
      "Residual: 2422.4418\n",
      "Norm Grad: 9.8563e+03\n",
      "\n",
      "Method=Euler, nlayers=2\n",
      "Iteration no: 10000\n",
      "Value of alpha:  0.0013\n",
      "Residual: 140.6501\n",
      "Norm Grad: 1.1741e+00\n",
      "Time:  22.8136\n",
      "\n",
      "Method=Euler, nlayers=2\n",
      "Iteration no: 20000\n",
      "Value of alpha:  0.0006\n",
      "Residual: 133.1888\n",
      "Norm Grad: 9.9629e-01\n",
      "Time:  23.4153\n",
      "\n",
      "Method=Euler, nlayers=2\n",
      "Iteration no: 30000\n",
      "Value of alpha:  0.0006\n",
      "Residual: 131.1266\n",
      "Norm Grad: 6.4773e-01\n",
      "Time:  30.8257\n",
      "\n",
      "Method=Euler, nlayers=2\n",
      "Iteration no: 40000\n",
      "Value of alpha:  0.0013\n",
      "Residual: 130.6644\n",
      "Norm Grad: 1.6031e-01\n",
      "Time:  31.6523\n",
      "\n",
      "Method=Euler, nlayers=2\n",
      "Iteration no: 50000\n",
      "Value of alpha:  0.0006\n",
      "Residual: 130.5598\n",
      "Norm Grad: 1.1068e-01\n",
      "Time:  32.3357\n",
      "\n",
      "Method=RK2, nlayers=2\n",
      "Iteration no: 1\n",
      "Value of alpha:  0.0003\n",
      "Residual: 1015.5361\n",
      "Norm Grad: 9.0567e+03\n",
      "\n",
      "Method=RK2, nlayers=2\n",
      "Iteration no: 10000\n",
      "Value of alpha:  0.0025\n",
      "Residual: 134.9613\n",
      "Norm Grad: 9.2647e-01\n",
      "Time:  69.5231\n",
      "\n",
      "Method=RK2, nlayers=2\n",
      "Iteration no: 20000\n",
      "Value of alpha:  0.0025\n",
      "Residual: 130.7686\n",
      "Norm Grad: 3.5344e-01\n",
      "Time:  74.4038\n",
      "\n",
      "Method=RK2, nlayers=2\n",
      "Iteration no: 30000\n",
      "Value of alpha:  0.0003\n",
      "Residual: 130.1134\n",
      "Norm Grad: 3.1554e-01\n",
      "Time:  76.4847\n",
      "\n",
      "Method=RK2, nlayers=2\n",
      "Iteration no: 40000\n",
      "Value of alpha:  0.0013\n",
      "Residual: 129.8960\n",
      "Norm Grad: 1.1525e-01\n",
      "Time:  79.3447\n",
      "\n",
      "Method=RK2, nlayers=2\n",
      "Iteration no: 50000\n",
      "Value of alpha:  0.0003\n",
      "Residual: 129.7775\n",
      "Norm Grad: 2.1547e-01\n",
      "Time:  91.0723\n",
      "\n",
      "Method=RK3, nlayers=2\n",
      "Iteration no: 1\n",
      "Value of alpha:  0.0003\n",
      "Residual: 769.7262\n",
      "Norm Grad: 1.0579e+04\n",
      "\n",
      "Method=RK3, nlayers=2\n",
      "Iteration no: 10000\n",
      "Value of alpha:  0.0006\n",
      "Residual: 134.5853\n",
      "Norm Grad: 1.0119e+00\n",
      "Time: 161.7868\n",
      "\n",
      "Method=RK3, nlayers=2\n",
      "Iteration no: 20000\n",
      "Value of alpha:  0.0006\n",
      "Residual: 133.3181\n",
      "Norm Grad: 2.8713e-01\n",
      "Time: 175.4718\n",
      "\n",
      "Method=RK3, nlayers=2\n",
      "Iteration no: 30000\n",
      "Value of alpha:  0.0003\n",
      "Residual: 132.6952\n",
      "Norm Grad: 5.9126e-01\n",
      "Time: 217.4499\n",
      "\n",
      "Method=RK3, nlayers=2\n",
      "Iteration no: 40000\n",
      "Value of alpha:  0.0003\n",
      "Residual: 132.0828\n",
      "Norm Grad: 4.2470e-01\n",
      "Time: 242.9981\n",
      "\n",
      "Method=RK3, nlayers=2\n",
      "Iteration no: 50000\n",
      "Value of alpha:  0.0013\n",
      "Residual: 131.5620\n",
      "Norm Grad: 2.8921e-01\n",
      "Time: 287.8650\n",
      "\n",
      "Method=RK4, nlayers=2\n",
      "Iteration no: 1\n",
      "Value of alpha:  0.0003\n",
      "Residual: 953.0978\n",
      "Norm Grad: 5.6297e+03\n",
      "\n",
      "Method=RK4, nlayers=2\n",
      "Iteration no: 10000\n",
      "Value of alpha:  0.0006\n",
      "Residual: 143.7035\n",
      "Norm Grad: 2.0910e+00\n",
      "Time: 538.4763\n",
      "\n",
      "Method=RK4, nlayers=2\n",
      "Iteration no: 20000\n",
      "Value of alpha:  0.0013\n",
      "Residual: 134.9006\n",
      "Norm Grad: 9.8772e-01\n",
      "Time: 592.8858\n",
      "\n",
      "Method=RK4, nlayers=2\n",
      "Iteration no: 30000\n",
      "Value of alpha:  0.0003\n",
      "Residual: 130.8617\n",
      "Norm Grad: 8.0795e-01\n",
      "Time: 600.5177\n",
      "\n",
      "Method=RK4, nlayers=2\n",
      "Iteration no: 40000\n",
      "Value of alpha:  0.0006\n",
      "Residual: 130.4137\n",
      "Norm Grad: 1.3649e-01\n",
      "Time: 602.0890\n",
      "\n",
      "Method=RK4, nlayers=2\n",
      "Iteration no: 50000\n",
      "Value of alpha:  0.0003\n",
      "Residual: 130.2938\n",
      "Norm Grad: 1.6368e-01\n",
      "Time: 655.7496\n"
     ]
    }
   ],
   "source": [
    "all_results = [train_ode_dnn(dataset, nlayers, channels, rk, niter, τ, τ_max, stepsize, problem, cb) for rk in rks];"
   ]
  },
  {
   "cell_type": "code",
   "execution_count": 894,
   "id": "ab743548",
   "metadata": {
    "ExecuteTime": {
     "end_time": "2021-11-04T01:11:04.283000-03:00",
     "start_time": "2021-11-04T04:11:04.254Z"
    }
   },
   "outputs": [
    {
     "data": {
      "text/plain": [
       "\"Non_Linear_Regression\\\\2_layers_251_points_50000_iter_10_channels\""
      ]
     },
     "execution_count": 894,
     "metadata": {},
     "output_type": "execute_result"
    }
   ],
   "source": [
    "final_string = string(nlayers)*\"_layers_\"*string(N)*\"_points_\"*string(niter)*\"_iter_\"*string(channels)*\"_channels\"\n",
    "outputdir = \"Non_Linear_Regression\\\\\"*final_string\n",
    "if !isdir(outputdir)\n",
    "    mkdir(outputdir)\n",
    "end"
   ]
  },
  {
   "cell_type": "code",
   "execution_count": 895,
   "id": "5dbfbfa4",
   "metadata": {
    "ExecuteTime": {
     "end_time": "2021-11-04T01:11:06.447000-03:00",
     "start_time": "2021-11-04T04:11:06.419Z"
    }
   },
   "outputs": [],
   "source": [
    "all_Ctrls,all_logs = first.(all_results),last.(all_results);"
   ]
  },
  {
   "cell_type": "code",
   "execution_count": 896,
   "id": "6142d5fc",
   "metadata": {
    "ExecuteTime": {
     "end_time": "2021-11-04T01:11:07.184000-03:00",
     "start_time": "2021-11-04T04:11:06.675Z"
    }
   },
   "outputs": [
    {
     "data": {
      "image/png": "[encoded data removed]",
      "text/plain": [
       "Figure(PyObject <Figure size 640x480 with 1 Axes>)"
      ]
     },
     "metadata": {},
     "output_type": "display_data"
    },
    {
     "data": {
      "text/plain": [
       "PyObject <matplotlib.legend.Legend object at 0x00000000072FBC88>"
      ]
     },
     "execution_count": 896,
     "metadata": {},
     "output_type": "execute_result"
    }
   ],
   "source": [
    "fig, axs = PyPlot.subplots()\n",
    "axs.set_title(\"Loss\")\n",
    "for i in 1:4\n",
    "    axs.semilogy(all_logs[i].loss, label = names[i])\n",
    "end\n",
    "legend()"
   ]
  },
  {
   "cell_type": "code",
   "execution_count": 897,
   "id": "edf4985a",
   "metadata": {
    "ExecuteTime": {
     "end_time": "2021-11-04T01:11:07.546000-03:00",
     "start_time": "2021-11-04T04:11:07.363Z"
    }
   },
   "outputs": [],
   "source": [
    "in_dir(outputdir) do\n",
    "    fig.savefig(\"loss_rks_\"*final_string*\".pdf\")\n",
    "end"
   ]
  },
  {
   "cell_type": "code",
   "execution_count": 898,
   "id": "02c3f3d1",
   "metadata": {
    "ExecuteTime": {
     "end_time": "2021-11-04T01:11:08.659000-03:00",
     "start_time": "2021-11-04T04:11:08.538Z"
    }
   },
   "outputs": [],
   "source": [
    "all_times = [sum(all_logs[i].time) for i in 1:4];"
   ]
  },
  {
   "cell_type": "code",
   "execution_count": 899,
   "id": "20e51731",
   "metadata": {
    "ExecuteTime": {
     "end_time": "2021-11-04T01:11:09.333000-03:00",
     "start_time": "2021-11-04T04:11:08.806Z"
    }
   },
   "outputs": [
    {
     "data": {
      "image/png": "[encoded data removed]",
      "text/plain": [
       "Figure(PyObject <Figure size 640x480 with 1 Axes>)"
      ]
     },
     "metadata": {},
     "output_type": "display_data"
    }
   ],
   "source": [
    "fig, ax = PyPlot.subplots()\n",
    "ax.set_title(\"Time\")\n",
    "ax.bar(1:4,height=all_times)\n",
    "ax.set_xticks(1:4)\n",
    "ax.set_xticklabels(names);"
   ]
  },
  {
   "cell_type": "code",
   "execution_count": 900,
   "id": "6b914f50",
   "metadata": {
    "ExecuteTime": {
     "end_time": "2021-11-04T01:11:09.488000-03:00",
     "start_time": "2021-11-04T04:11:09.113Z"
    }
   },
   "outputs": [],
   "source": [
    "in_dir(outputdir) do\n",
    "    fig.savefig(\"time_rks_\"*final_string*\".pdf\")\n",
    "end"
   ]
  },
  {
   "cell_type": "code",
   "execution_count": 901,
   "id": "97f90c9b",
   "metadata": {
    "ExecuteTime": {
     "end_time": "2021-11-04T01:11:09.834000-03:00",
     "start_time": "2021-11-04T04:11:09.818Z"
    }
   },
   "outputs": [],
   "source": [
    "all_Ctrls_test = deepcopy.(all_Ctrls);"
   ]
  },
  {
   "cell_type": "code",
   "execution_count": 902,
   "id": "b987cdea",
   "metadata": {
    "ExecuteTime": {
     "end_time": "2021-11-04T01:11:10.341000-03:00",
     "start_time": "2021-11-04T04:11:10.325Z"
    }
   },
   "outputs": [],
   "source": [
    "xs1 = collect(0:0.01:5);"
   ]
  },
  {
   "cell_type": "code",
   "execution_count": 903,
   "id": "f5dfd164",
   "metadata": {
    "ExecuteTime": {
     "end_time": "2021-11-04T01:11:10.837000-03:00",
     "start_time": "2021-11-04T04:11:10.772Z"
    }
   },
   "outputs": [],
   "source": [
    "Y0_test = [[x] for x in xs1];"
   ]
  },
  {
   "cell_type": "code",
   "execution_count": 904,
   "id": "0b447a1d",
   "metadata": {
    "ExecuteTime": {
     "end_time": "2021-11-04T01:11:11.542000-03:00",
     "start_time": "2021-11-04T04:11:11.415Z"
    }
   },
   "outputs": [],
   "source": [
    "for i in 1:4\n",
    "    all_Ctrls_test[i].Y0 = hcat(Y0_test...)';\n",
    "end"
   ]
  },
  {
   "cell_type": "code",
   "execution_count": 905,
   "id": "414b7425",
   "metadata": {
    "ExecuteTime": {
     "end_time": "2021-11-04T01:11:12.007000-03:00",
     "start_time": "2021-11-04T04:11:11.908Z"
    }
   },
   "outputs": [],
   "source": [
    "classifieds = [[] for i in 1:4]\n",
    "for i in 1:4\n",
    "    classifieds[i] = OCDNN.RKforwardstepper(all_Ctrls_test[i],rks[i],problem).Classifier;\n",
    "end"
   ]
  },
  {
   "cell_type": "code",
   "execution_count": 906,
   "id": "2698cb02",
   "metadata": {
    "ExecuteTime": {
     "end_time": "2021-11-04T01:11:12.316000-03:00",
     "start_time": "2021-11-04T04:11:12.288Z"
    }
   },
   "outputs": [],
   "source": [
    "# Linear Regression\n",
    "β1 = sum((xs.-1/length(xs)*sum(xs)).*ys)/sum((xs.-1/length(xs)*sum(xs)).^2)\n",
    "β0 = 1/length(ys)*sum(ys).-β1.*1/length(xs)*sum(xs);"
   ]
  },
  {
   "cell_type": "code",
   "execution_count": 909,
   "id": "4d38bec4",
   "metadata": {
    "ExecuteTime": {
     "end_time": "2021-11-04T01:11:24.524000-03:00",
     "start_time": "2021-11-04T04:11:24.244Z"
    }
   },
   "outputs": [
    {
     "data": {
      "image/png": "[encoded data removed]",
      "text/plain": [
       "Figure(PyObject <Figure size 640x480 with 1 Axes>)"
      ]
     },
     "metadata": {},
     "output_type": "display_data"
    },
    {
     "data": {
      "text/plain": [
       "PyObject <matplotlib.legend.Legend object at 0x0000000064261B08>"
      ]
     },
     "execution_count": 909,
     "metadata": {},
     "output_type": "execute_result"
    }
   ],
   "source": [
    "fig, ax = PyPlot.subplots()\n",
    "ax.plot(xs, ys, \".\")\n",
    "ax.plot(xs, f.(xs) , label=\"Original\");\n",
    "#ax.plot(xs, β1 .*xs .+ β0, label=\"Linear Reg\");\n",
    "for i in 1:4\n",
    "    ax.plot(xs1, classifieds[i], label=names[i])\n",
    "end\n",
    "ax.grid()\n",
    "ax.legend()"
   ]
  },
  {
   "cell_type": "code",
   "execution_count": 910,
   "id": "69b0c0ca",
   "metadata": {
    "ExecuteTime": {
     "end_time": "2021-11-04T01:11:25.658000-03:00",
     "start_time": "2021-11-04T04:11:25.530Z"
    }
   },
   "outputs": [],
   "source": [
    "in_dir(outputdir) do\n",
    "    fig.savefig(\"Linear_Reg_rks\"*final_string*\".pdf\")\n",
    "end"
   ]
  },
  {
   "cell_type": "code",
   "execution_count": null,
   "id": "180e4349",
   "metadata": {},
   "outputs": [],
   "source": []
  }
 ],
 "metadata": {
  "kernelspec": {
   "display_name": "Julia 1.6.1",
   "language": "julia",
   "name": "julia-1.6"
  },
  "language_info": {
   "file_extension": ".jl",
   "mimetype": "application/julia",
   "name": "julia",
   "version": "1.6.1"
  },
  "toc": {
   "base_numbering": 1,
   "nav_menu": {},
   "number_sections": true,
   "sideBar": true,
   "skip_h1_title": false,
   "title_cell": "Table of Contents",
   "title_sidebar": "Contents",
   "toc_cell": false,
   "toc_position": {},
   "toc_section_display": true,
   "toc_window_display": false
  }
 },
 "nbformat": 4,
 "nbformat_minor": 5
}
