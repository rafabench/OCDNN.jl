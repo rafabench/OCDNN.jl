{
 "cells": [
  {
   "cell_type": "markdown",
   "id": "faea9810",
   "metadata": {},
   "source": [
    "Inspired in: https://playground.tensorflow.org/"
   ]
  },
  {
   "cell_type": "code",
   "execution_count": 1,
   "id": "66395ec7",
   "metadata": {
    "ExecuteTime": {
     "end_time": "2021-11-02T19:32:08.338000-03:00",
     "start_time": "2021-11-02T22:31:43.172Z"
    }
   },
   "outputs": [
    {
     "name": "stderr",
     "output_type": "stream",
     "text": [
      "┌ Info: Precompiling OCDNN [04e95dd8-2660-4c0e-9d70-3f4d10bb3a0d]\n",
      "└ @ Base loading.jl:1317\n"
     ]
    }
   ],
   "source": [
    "using Revise\n",
    "using PyPlot, OCDNN"
   ]
  },
  {
   "cell_type": "code",
   "execution_count": 2,
   "id": "a1e43bcb",
   "metadata": {
    "ExecuteTime": {
     "end_time": "2021-11-02T19:32:12.873000-03:00",
     "start_time": "2021-11-02T22:31:43.176Z"
    }
   },
   "outputs": [],
   "source": [
    "dataset = build_dataset(N_samples = 50, N_noise = 0);\n",
    "data, feat = dataset;"
   ]
  },
  {
   "cell_type": "code",
   "execution_count": 3,
   "id": "eda4a0df",
   "metadata": {
    "ExecuteTime": {
     "end_time": "2021-11-02T19:32:13.201000-03:00",
     "start_time": "2021-11-02T22:31:43.178Z"
    }
   },
   "outputs": [],
   "source": [
    "idxs = feat .== 1;\n",
    "N = sum(idxs);\n",
    "M = sum(.!idxs);"
   ]
  },
  {
   "cell_type": "code",
   "execution_count": 4,
   "id": "0a2c88c4",
   "metadata": {
    "ExecuteTime": {
     "end_time": "2021-11-02T19:32:20.166000-03:00",
     "start_time": "2021-11-02T22:31:43.180Z"
    }
   },
   "outputs": [
    {
     "data": {
      "image/png": "[encoded data removed]",
      "text/plain": [
       "Figure(PyObject <Figure size 640x480 with 1 Axes>)"
      ]
     },
     "metadata": {},
     "output_type": "display_data"
    },
    {
     "data": {
      "text/plain": [
       "PyObject <matplotlib.collections.PathCollection object at 0x000000005676F4C8>"
      ]
     },
     "execution_count": 4,
     "metadata": {},
     "output_type": "execute_result"
    }
   ],
   "source": [
    "scatter(data[:,1][idxs],data[:,2][idxs],marker=\"x\", c = \"k\")\n",
    "scatter(data[:,1][.!idxs],data[:,2][.!idxs],marker=\"o\", c = \"r\")"
   ]
  },
  {
   "cell_type": "code",
   "execution_count": 18,
   "id": "1306b223",
   "metadata": {
    "ExecuteTime": {
     "end_time": "2021-11-02T19:33:14.239000-03:00",
     "start_time": "2021-11-02T22:33:14.221Z"
    }
   },
   "outputs": [],
   "source": [
    "nlayers = 6\n",
    "channels = 2\n",
    "niter = 20000\n",
    "τ=0.1;\n",
    "τ_max=10;\n",
    "stepsize = 0.1;"
   ]
  },
  {
   "cell_type": "code",
   "execution_count": 19,
   "id": "671bbf3b",
   "metadata": {
    "ExecuteTime": {
     "end_time": "2021-11-02T19:33:15.343000-03:00",
     "start_time": "2021-11-02T22:33:15.325Z"
    }
   },
   "outputs": [],
   "source": [
    "A_eu = 0;\n",
    "w_eu = 1;\n",
    "A_ie = [0 0; 1 0];\n",
    "w_ie = [0.5 ;0.5];\n",
    "A_kutta4 = [0 0 0 0;0.5 0 0 0;0 0.5 0 0;0 0 1 0];\n",
    "w_kutta4 = 1/6*[1;2;2;1];\n",
    "A_kutta3 = [0 0 0;1/2 0 0;-1 2 0];\n",
    "w_kutta3 = [1/6;2/3;1/6];"
   ]
  },
  {
   "cell_type": "code",
   "execution_count": 20,
   "id": "578ba957",
   "metadata": {
    "ExecuteTime": {
     "end_time": "2021-11-02T19:33:15.699000-03:00",
     "start_time": "2021-11-02T22:33:15.684Z"
    }
   },
   "outputs": [],
   "source": [
    "rk4 = OCDNN.ExplicitRungeKutta(A_kutta4,w_kutta4,\"RK4\");\n",
    "rk2 = OCDNN.ExplicitRungeKutta(A_ie,w_ie,\"RK2\");"
   ]
  },
  {
   "cell_type": "code",
   "execution_count": 21,
   "id": "9df0ec2c",
   "metadata": {
    "ExecuteTime": {
     "end_time": "2021-11-02T19:33:16.181000-03:00",
     "start_time": "2021-11-02T22:33:15.968Z"
    }
   },
   "outputs": [
    {
     "data": {
      "text/plain": [
       "#5 (generic function with 1 method)"
      ]
     },
     "execution_count": 21,
     "metadata": {},
     "output_type": "execute_result"
    }
   ],
   "source": [
    "eta = x -> exp(x)/(exp(x)+1)"
   ]
  },
  {
   "cell_type": "code",
   "execution_count": 22,
   "id": "918c5bf2",
   "metadata": {
    "ExecuteTime": {
     "end_time": "2021-11-02T19:33:16.820000-03:00",
     "start_time": "2021-11-02T22:33:16.803Z"
    }
   },
   "outputs": [],
   "source": [
    "problem = OCDNN.Problem(tanh, eta, feat);\n",
    "Ctrls = OCDNN.ControlDef(dataset, stepsize, channels, nlayers);"
   ]
  },
  {
   "cell_type": "code",
   "execution_count": 23,
   "id": "4db87cde",
   "metadata": {
    "ExecuteTime": {
     "end_time": "2021-11-02T19:33:52.992000-03:00",
     "start_time": "2021-11-02T22:33:17.439Z"
    },
    "scrolled": true
   },
   "outputs": [
    {
     "name": "stdout",
     "output_type": "stream",
     "text": [
      "\n",
      "Method=RK4, nlayers=6\n",
      "Iteration no: 1\n",
      "Value of alpha:  0.1000\n",
      "Residual:   8.7020\n",
      "Norm Grad: 4.3804e+00\n",
      "\n",
      "Method=RK4, nlayers=6\n",
      "Iteration no: 2000\n",
      "Value of alpha:  1.2500\n",
      "Residual:   0.5924\n",
      "Norm Grad: 1.7042e-02\n",
      "\n",
      "Method=RK4, nlayers=6\n",
      "Iteration no: 4000\n",
      "Value of alpha: 10.0000\n",
      "Residual:   0.5049\n",
      "Norm Grad: 5.1750e-04\n",
      "\n",
      "Method=RK4, nlayers=6\n",
      "Iteration no: 6000\n",
      "Value of alpha: 10.0000\n",
      "Residual:   0.5023\n",
      "Norm Grad: 2.4939e-04\n",
      "\n",
      "Method=RK4, nlayers=6\n",
      "Iteration no: 8000\n",
      "Value of alpha: 10.0000\n",
      "Residual:   0.5015\n",
      "Norm Grad: 1.6515e-04\n",
      "\n",
      "Method=RK4, nlayers=6\n",
      "Iteration no: 10000\n",
      "Value of alpha: 10.0000\n",
      "Residual:   0.5011\n",
      "Norm Grad: 1.2338e-04\n",
      "\n",
      "Method=RK4, nlayers=6\n",
      "Iteration no: 12000\n",
      "Value of alpha: 10.0000\n",
      "Residual:   0.5008\n",
      "Norm Grad: 9.6965e-05\n",
      "\n",
      "Method=RK4, nlayers=6\n",
      "Iteration no: 14000\n",
      "Value of alpha: 10.0000\n",
      "Residual:   0.5007\n",
      "Norm Grad: 7.8592e-05\n",
      "\n",
      "Method=RK4, nlayers=6\n",
      "Iteration no: 16000\n",
      "Value of alpha: 10.0000\n",
      "Residual:   0.5006\n",
      "Norm Grad: 6.5855e-05\n",
      "\n",
      "Method=RK4, nlayers=6\n",
      "Iteration no: 18000\n",
      "Value of alpha: 10.0000\n",
      "Residual:   0.5005\n",
      "Norm Grad: 5.6804e-05\n",
      "\n",
      "Method=RK4, nlayers=6\n",
      "Iteration no: 20000\n",
      "Value of alpha: 10.0000\n",
      "Residual:   0.5004\n",
      "Norm Grad: 5.0034e-05\n",
      " 35.513901 seconds (56.69 M allocations: 35.011 GiB, 3.80% gc time, 1.23% compilation time)\n"
     ]
    }
   ],
   "source": [
    "@time Ctrls,F,Fn = train_ode_dnn(dataset, nlayers, channels, rk4, niter, τ, τ_max, stepsize, problem);"
   ]
  },
  {
   "cell_type": "code",
   "execution_count": 24,
   "id": "5dbfbfa4",
   "metadata": {
    "ExecuteTime": {
     "end_time": "2021-11-02T19:33:54.813000-03:00",
     "start_time": "2021-11-02T22:33:54.795Z"
    }
   },
   "outputs": [],
   "source": [
    "Ctrls_test = deepcopy(Ctrls);"
   ]
  },
  {
   "cell_type": "code",
   "execution_count": 25,
   "id": "b987cdea",
   "metadata": {
    "ExecuteTime": {
     "end_time": "2021-11-02T19:33:55.029000-03:00",
     "start_time": "2021-11-02T22:33:55.016Z"
    }
   },
   "outputs": [],
   "source": [
    "xs = collect(0:0.01:1)\n",
    "ys = collect(0:0.01:1);"
   ]
  },
  {
   "cell_type": "code",
   "execution_count": 26,
   "id": "f5dfd164",
   "metadata": {
    "ExecuteTime": {
     "end_time": "2021-11-02T19:33:55.319000-03:00",
     "start_time": "2021-11-02T22:33:55.228Z"
    }
   },
   "outputs": [],
   "source": [
    "Y0_test = [[x,y] for x in xs, y in ys];"
   ]
  },
  {
   "cell_type": "code",
   "execution_count": 27,
   "id": "0b447a1d",
   "metadata": {
    "ExecuteTime": {
     "end_time": "2021-11-02T19:33:55.606000-03:00",
     "start_time": "2021-11-02T22:33:55.590Z"
    }
   },
   "outputs": [],
   "source": [
    "Ctrls_test.Y0 = hcat(Y0_test...)';"
   ]
  },
  {
   "cell_type": "code",
   "execution_count": 28,
   "id": "414b7425",
   "metadata": {
    "ExecuteTime": {
     "end_time": "2021-11-02T19:33:55.901000-03:00",
     "start_time": "2021-11-02T22:33:55.822Z"
    }
   },
   "outputs": [],
   "source": [
    "S = OCDNN.RKforwardstepper(Ctrls_test,rk4,problem);"
   ]
  },
  {
   "cell_type": "code",
   "execution_count": 29,
   "id": "2bab0e26",
   "metadata": {
    "ExecuteTime": {
     "end_time": "2021-11-02T19:33:56.076000-03:00",
     "start_time": "2021-11-02T22:33:56.053Z"
    }
   },
   "outputs": [],
   "source": [
    "value = reshape(round.(S.Classifier), size(Y0_test))';"
   ]
  },
  {
   "cell_type": "code",
   "execution_count": 30,
   "id": "abb96aea",
   "metadata": {
    "ExecuteTime": {
     "end_time": "2021-11-02T19:33:56.802000-03:00",
     "start_time": "2021-11-02T22:33:56.513Z"
    }
   },
   "outputs": [
    {
     "data": {
      "image/png": "[encoded data removed]",
      "text/plain": [
       "Figure(PyObject <Figure size 640x480 with 1 Axes>)"
      ]
     },
     "metadata": {},
     "output_type": "display_data"
    },
    {
     "data": {
      "text/plain": [
       "PyObject <matplotlib.collections.PathCollection object at 0x00000000203D68C8>"
      ]
     },
     "execution_count": 30,
     "metadata": {},
     "output_type": "execute_result"
    }
   ],
   "source": [
    "contourf(xs,ys, value, cmap = \"plasma\")\n",
    "scatter(data[:,1][idxs],data[:,2][idxs],marker=\"x\", c = \"k\")\n",
    "scatter(data[:,1][.!idxs],data[:,2][.!idxs],marker=\"o\", c = \"r\")"
   ]
  }
 ],
 "metadata": {
  "kernelspec": {
   "display_name": "Julia 1.6.1",
   "language": "julia",
   "name": "julia-1.6"
  },
  "language_info": {
   "file_extension": ".jl",
   "mimetype": "application/julia",
   "name": "julia",
   "version": "1.6.1"
  },
  "toc": {
   "base_numbering": 1,
   "nav_menu": {},
   "number_sections": true,
   "sideBar": true,
   "skip_h1_title": false,
   "title_cell": "Table of Contents",
   "title_sidebar": "Contents",
   "toc_cell": false,
   "toc_position": {},
   "toc_section_display": true,
   "toc_window_display": false
  }
 },
 "nbformat": 4,
 "nbformat_minor": 5
}
