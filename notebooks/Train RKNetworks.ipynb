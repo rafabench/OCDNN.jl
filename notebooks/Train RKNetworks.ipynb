{
 "cells": [
  {
   "cell_type": "markdown",
   "id": "faea9810",
   "metadata": {},
   "source": [
    "Inspired in: https://playground.tensorflow.org/"
   ]
  },
  {
   "cell_type": "code",
   "execution_count": 1,
   "id": "66395ec7",
   "metadata": {
    "ExecuteTime": {
     "end_time": "2021-10-31T13:02:44.047000-03:00",
     "start_time": "2021-10-31T16:02:04.555Z"
    }
   },
   "outputs": [
    {
     "name": "stderr",
     "output_type": "stream",
     "text": [
      "┌ Info: Precompiling PyPlot [d330b81b-6aea-500a-939a-2ce795aea3ee]\n",
      "└ @ Base loading.jl:1317\n",
      "┌ Info: Precompiling OCDNN [04e95dd8-2660-4c0e-9d70-3f4d10bb3a0d]\n",
      "└ @ Base loading.jl:1317\n"
     ]
    }
   ],
   "source": [
    "using Revise\n",
    "using PyPlot, OCDNN"
   ]
  },
  {
   "cell_type": "code",
   "execution_count": 274,
   "id": "a1e43bcb",
   "metadata": {
    "ExecuteTime": {
     "end_time": "2021-10-31T15:41:12.849000-03:00",
     "start_time": "2021-10-31T18:41:12.830Z"
    }
   },
   "outputs": [],
   "source": [
    "dataset = build_dataset(N_samples = 20, N_noise = 0);\n",
    "data, feat = dataset;"
   ]
  },
  {
   "cell_type": "code",
   "execution_count": 322,
   "id": "0a2c88c4",
   "metadata": {
    "ExecuteTime": {
     "end_time": "2021-10-31T15:44:43.339000-03:00",
     "start_time": "2021-10-31T18:44:43.195Z"
    }
   },
   "outputs": [
    {
     "data": {
      "image/png": "[encoded data removed]",
      "text/plain": [
       "Figure(PyObject <Figure size 640x480 with 1 Axes>)"
      ]
     },
     "metadata": {},
     "output_type": "display_data"
    },
    {
     "data": {
      "text/plain": [
       "PyObject <matplotlib.collections.PathCollection object at 0x00000000652ABB48>"
      ]
     },
     "execution_count": 322,
     "metadata": {},
     "output_type": "execute_result"
    }
   ],
   "source": [
    "scatter(data[:,1][idxs],data[:,2][idxs],marker=\"x\", c = \"k\")\n",
    "scatter(data[:,1][.!idxs],data[:,2][.!idxs],marker=\"o\", c = \"r\")"
   ]
  },
  {
   "cell_type": "code",
   "execution_count": 308,
   "id": "1306b223",
   "metadata": {
    "ExecuteTime": {
     "end_time": "2021-10-31T15:43:24.674000-03:00",
     "start_time": "2021-10-31T18:43:24.639Z"
    }
   },
   "outputs": [],
   "source": [
    "nlayers = 5\n",
    "channels = 2\n",
    "niter = 10000\n",
    "τ=0.1;\n",
    "τ_max=10;\n",
    "stepsize = 0.1;"
   ]
  },
  {
   "cell_type": "code",
   "execution_count": 309,
   "id": "671bbf3b",
   "metadata": {
    "ExecuteTime": {
     "end_time": "2021-10-31T15:43:24.907000-03:00",
     "start_time": "2021-10-31T18:43:24.875Z"
    }
   },
   "outputs": [],
   "source": [
    "A_eu = 0;\n",
    "w_eu = 1;\n",
    "A_ie = [0 0 1 0];\n",
    "w_ie = [0.5  0.5];\n",
    "A_kutta4 = [0 0 0 0;0.5 0 0 0;0 0.5 0 0;0 0 1 0];\n",
    "w_kutta4 = 1/6*[1;2;2;1];\n",
    "A_kutta3 = [0 0 0;1/2 0 0;-1 2 0];\n",
    "w_kutta3 = [1/6;2/3;1/6];"
   ]
  },
  {
   "cell_type": "code",
   "execution_count": 310,
   "id": "578ba957",
   "metadata": {
    "ExecuteTime": {
     "end_time": "2021-10-31T15:43:25.090000-03:00",
     "start_time": "2021-10-31T18:43:25.057Z"
    }
   },
   "outputs": [],
   "source": [
    "rkmethod = OCDNN.ExplicitRungeKutta(A_kutta4,w_kutta4,\"RK4\");"
   ]
  },
  {
   "cell_type": "code",
   "execution_count": 324,
   "id": "4db87cde",
   "metadata": {
    "ExecuteTime": {
     "end_time": "2021-10-31T15:50:45.811000-03:00",
     "start_time": "2021-10-31T18:50:39.934Z"
    },
    "scrolled": true
   },
   "outputs": [
    {
     "name": "stdout",
     "output_type": "stream",
     "text": [
      "\n",
      "Method=RK4, nlayers=5\n",
      "Iteration no: 1\n",
      "Value of alpha:  0.1000\n",
      "Residual:   2.1632\n",
      "Norm Grad: 1.2572e-01\n",
      "\n",
      "Method=RK4, nlayers=5\n",
      "Iteration no: 2000\n",
      "Value of alpha: 10.0000\n",
      "Residual:   0.0029\n",
      "Norm Grad: 5.3373e-04\n",
      "\n",
      "Method=RK4, nlayers=5\n",
      "Iteration no: 4000\n",
      "Value of alpha: 10.0000\n",
      "Residual:   0.0011\n",
      "Norm Grad: 1.7908e-04\n",
      "\n",
      "Method=RK4, nlayers=5\n",
      "Iteration no: 6000\n",
      "Value of alpha: 10.0000\n",
      "Residual:   0.0007\n",
      "Norm Grad: 1.1020e-04\n",
      "\n",
      "Method=RK4, nlayers=5\n",
      "Iteration no: 8000\n",
      "Value of alpha: 10.0000\n",
      "Residual:   0.0005\n",
      "Norm Grad: 8.0165e-05\n",
      "\n",
      "Method=RK4, nlayers=5\n",
      "Iteration no: 10000\n",
      "Value of alpha: 10.0000\n",
      "Residual:   0.0004\n",
      "Norm Grad: 6.3144e-05\n"
     ]
    }
   ],
   "source": [
    "Ctrls,F,Fn = train_ode_dnn(dataset, nlayers, channels, rkmethod, niter, τ, τ_max, stepsize);"
   ]
  },
  {
   "cell_type": "code",
   "execution_count": 325,
   "id": "5dbfbfa4",
   "metadata": {
    "ExecuteTime": {
     "end_time": "2021-10-31T15:50:48.652000-03:00",
     "start_time": "2021-10-31T18:50:48.632Z"
    }
   },
   "outputs": [],
   "source": [
    "Ctrls_test = deepcopy(Ctrls);"
   ]
  },
  {
   "cell_type": "code",
   "execution_count": 326,
   "id": "e5746418",
   "metadata": {
    "ExecuteTime": {
     "end_time": "2021-10-31T15:50:49.008000-03:00",
     "start_time": "2021-10-31T18:50:48.983Z"
    }
   },
   "outputs": [],
   "source": [
    "xs = collect(0:0.01:1)\n",
    "ys = collect(0:0.01:1);"
   ]
  },
  {
   "cell_type": "code",
   "execution_count": 327,
   "id": "aad21b77",
   "metadata": {
    "ExecuteTime": {
     "end_time": "2021-10-31T15:50:49.456000-03:00",
     "start_time": "2021-10-31T18:50:49.380Z"
    }
   },
   "outputs": [],
   "source": [
    "Y0_test = [[x,y] for x in xs, y in ys];"
   ]
  },
  {
   "cell_type": "code",
   "execution_count": 328,
   "id": "9c0e8ea2",
   "metadata": {
    "ExecuteTime": {
     "end_time": "2021-10-31T15:50:50.371000-03:00",
     "start_time": "2021-10-31T18:50:50.353Z"
    }
   },
   "outputs": [],
   "source": [
    "Ctrls_test.Y0 = hcat(Y0_test...)';"
   ]
  },
  {
   "cell_type": "code",
   "execution_count": 316,
   "id": "713f65a9",
   "metadata": {
    "ExecuteTime": {
     "end_time": "2021-10-31T15:43:46.855000-03:00",
     "start_time": "2021-10-31T18:43:46.781Z"
    }
   },
   "outputs": [],
   "source": [
    "S = OCDNN.RKforwardstepper(Ctrls_test,rkmethod,zeros(1));"
   ]
  },
  {
   "cell_type": "code",
   "execution_count": 317,
   "id": "f1d280bd",
   "metadata": {
    "ExecuteTime": {
     "end_time": "2021-10-31T15:43:47.142000-03:00",
     "start_time": "2021-10-31T18:43:47.104Z"
    }
   },
   "outputs": [],
   "source": [
    "values = reshape(round.(S.Classifier), size(Y0_test))';"
   ]
  },
  {
   "cell_type": "code",
   "execution_count": 318,
   "id": "ad04eadf",
   "metadata": {
    "ExecuteTime": {
     "end_time": "2021-10-31T15:43:48.045000-03:00",
     "start_time": "2021-10-31T18:43:48.021Z"
    }
   },
   "outputs": [],
   "source": [
    "idxs = feat .== 1;\n",
    "N = sum(idxs);\n",
    "M = sum(.!idxs);"
   ]
  },
  {
   "cell_type": "code",
   "execution_count": 319,
   "id": "e4a91cca",
   "metadata": {
    "ExecuteTime": {
     "end_time": "2021-10-31T15:43:48.998000-03:00",
     "start_time": "2021-10-31T18:43:48.806Z"
    }
   },
   "outputs": [
    {
     "data": {
      "image/png": "[encoded data removed]",
      "text/plain": [
       "Figure(PyObject <Figure size 640x480 with 1 Axes>)"
      ]
     },
     "metadata": {},
     "output_type": "display_data"
    },
    {
     "data": {
      "text/plain": [
       "PyObject <matplotlib.collections.PathCollection object at 0x00000000648C03C8>"
      ]
     },
     "execution_count": 319,
     "metadata": {},
     "output_type": "execute_result"
    }
   ],
   "source": [
    "contourf(xs,ys, values, cmap = \"plasma\", s = 15)\n",
    "scatter(data[:,1][idxs],data[:,2][idxs],marker=\"x\", c = \"k\")\n",
    "scatter(data[:,1][.!idxs],data[:,2][.!idxs],marker=\"o\", c = \"r\")"
   ]
  }
 ],
 "metadata": {
  "kernelspec": {
   "display_name": "Julia 1.6.1",
   "language": "julia",
   "name": "julia-1.6"
  },
  "language_info": {
   "file_extension": ".jl",
   "mimetype": "application/julia",
   "name": "julia",
   "version": "1.6.1"
  },
  "toc": {
   "base_numbering": 1,
   "nav_menu": {},
   "number_sections": true,
   "sideBar": true,
   "skip_h1_title": false,
   "title_cell": "Table of Contents",
   "title_sidebar": "Contents",
   "toc_cell": false,
   "toc_position": {},
   "toc_section_display": true,
   "toc_window_display": false
  }
 },
 "nbformat": 4,
 "nbformat_minor": 5
}
